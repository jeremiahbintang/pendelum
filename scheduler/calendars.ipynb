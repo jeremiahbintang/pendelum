{
 "cells": [
  {
   "cell_type": "code",
   "execution_count": 1,
   "metadata": {},
   "outputs": [],
   "source": [
    "from icalendar import Calendar, Event, vCalAddress, vText\n",
    "from datetime import datetime\n",
    "from pathlib import Path\n",
    "import os\n",
    "import pytz"
   ]
  },
  {
   "cell_type": "code",
   "execution_count": 2,
   "metadata": {},
   "outputs": [],
   "source": [
    "file = open('personal_20221119_172719.ics', 'rb')\n",
    "ecal = Calendar.from_ical(file.read())"
   ]
  },
  {
   "cell_type": "code",
   "execution_count": 3,
   "metadata": {},
   "outputs": [],
   "source": [
    "events = []\n",
    "for component in ecal.walk():\n",
    "    if component.name == 'VEVENT':\n",
    "        if component.decoded(\"dtstart\").strftime(\"%Y-%m-%d\") == datetime.strptime('2022-11-30', \"%Y-%m-%d\").strftime(\"%Y-%m-%d\"):\n",
    "            event = {}\n",
    "            event['name'] = str(component.get('summary'))\n",
    "            event['start_time'] = component.decoded(\"dtstart\").strftime(\"%Y-%m-%d %H:%M:%S\")\n",
    "            event['end_time'] = component.decoded(\"dtend\").strftime(\"%Y-%m-%d %H:%M:%S\")\n",
    "            events.append(event)"
   ]
  },
  {
   "cell_type": "code",
   "execution_count": 4,
   "metadata": {},
   "outputs": [
    {
     "name": "stdout",
     "output_type": "stream",
     "text": [
      "[{'name': 'Übung zu Quantentechnologie UE, Gruppe 1 Johannes Früh', 'start_time': '2022-11-30 08:00:00', 'end_time': '2022-11-30 09:00:00'}, {'name': 'Quantentechnologie VO, Standardgruppe', 'start_time': '2022-11-30 09:00:00', 'end_time': '2022-11-30 11:00:00'}, {'name': 'Image Guided Surgery (IN2286) VI, Standardgruppe', 'start_time': '2022-11-30 13:00:00', 'end_time': '2022-11-30 15:00:00'}, {'name': 'Deutsch als Fremdsprache A2.1 SE, Keza GERMAN MATTERS (GAR Präsenz)', 'start_time': '2022-11-30 17:00:00', 'end_time': '2022-11-30 18:30:00'}]\n"
     ]
    }
   ],
   "source": [
    "print(events)"
   ]
  },
  {
   "cell_type": "code",
   "execution_count": null,
   "metadata": {},
   "outputs": [],
   "source": []
  }
 ],
 "metadata": {
  "kernelspec": {
   "display_name": "python3.9",
   "language": "python",
   "name": "python3.9"
  },
  "language_info": {
   "codemirror_mode": {
    "name": "ipython",
    "version": 3
   },
   "file_extension": ".py",
   "mimetype": "text/x-python",
   "name": "python",
   "nbconvert_exporter": "python",
   "pygments_lexer": "ipython3",
   "version": "3.9.13"
  }
 },
 "nbformat": 4,
 "nbformat_minor": 5
}
