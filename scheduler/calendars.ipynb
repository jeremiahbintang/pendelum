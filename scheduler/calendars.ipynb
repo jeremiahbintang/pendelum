{
 "cells": [
  {
   "cell_type": "code",
   "execution_count": 2,
   "id": "c0f0c387",
   "metadata": {},
   "outputs": [],
   "source": [
    "from icalendar import Calendar, Event, vCalAddress, vText\n",
    "from datetime import datetime\n",
    "from pathlib import Path\n",
    "import os\n",
    "import pytz"
   ]
  },
  {
   "cell_type": "code",
   "execution_count": 10,
   "id": "bf11ecfd",
   "metadata": {},
   "outputs": [],
   "source": [
    "file = open('personal_20221119_172719.ics', 'rb')\n",
    "ecal = Calendar.from_ical(file.read())"
   ]
  },
  {
   "cell_type": "code",
   "execution_count": 34,
   "id": "0f01d230",
   "metadata": {},
   "outputs": [],
   "source": [
    "events = []\n",
    "for component in ecal.walk():\n",
    "    if component.name == 'VEVENT':\n",
    "        if component.decoded(\"dtstart\").strftime(\"%Y-%m-%d\") == datetime.strptime('2022-11-30', \"%Y-%m-%d\").strftime(\"%Y-%m-%d\"):\n",
    "            event = {}\n",
    "            event['name'] = str(component.get('summary'))\n",
    "            event['start_time'] = component.decoded(\"dtstart\").strftime(\"%Y-%m-%d %H:%M:%S\")\n",
    "            event['end_time'] = component.decoded(\"dtend\").strftime(\"%Y-%m-%d %H:%M:%S\")\n",
    "            events.append(event)"
   ]
  }
 ],
 "metadata": {
  "kernelspec": {
   "display_name": "Python 3 (ipykernel)",
   "language": "python",
   "name": "python3"
  },
  "language_info": {
   "codemirror_mode": {
    "name": "ipython",
    "version": 3
   },
   "file_extension": ".py",
   "mimetype": "text/x-python",
   "name": "python",
   "nbconvert_exporter": "python",
   "pygments_lexer": "ipython3",
   "version": "3.8.10"
  }
 },
 "nbformat": 4,
 "nbformat_minor": 5
}
