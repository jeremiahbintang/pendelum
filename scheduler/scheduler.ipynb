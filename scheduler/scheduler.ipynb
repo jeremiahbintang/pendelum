{
 "cells": [
  {
   "cell_type": "code",
   "execution_count": 1,
   "metadata": {},
   "outputs": [],
   "source": [
    "from datetime import datetime, timedelta\n",
    "import math\n",
    "from icalendar import Calendar, Event, vCalAddress, vText\n",
    "from pathlib import Path\n",
    "import os\n",
    "import pytz"
   ]
  },
  {
   "cell_type": "markdown",
   "metadata": {},
   "source": [
    "## Scheduler"
   ]
  },
  {
   "cell_type": "code",
   "execution_count": 2,
   "metadata": {},
   "outputs": [],
   "source": [
    "wakeup_time = datetime.strptime(\"2022-11-19 06:00:00\", \"%Y-%m-%d %H:%M:%S\")\n",
    "sleep_time = datetime.strptime(\"2022-11-19 23:00:00\", \"%Y-%m-%d %H:%M:%S\")"
   ]
  },
  {
   "cell_type": "code",
   "execution_count": 3,
   "metadata": {},
   "outputs": [],
   "source": [
    "class Activity:\n",
    "    def __init__(self, name=None, start_time=None, end_time=None, duration=None, location=None, priority=None):\n",
    "        self.name = name\n",
    "        if (start_time == None) and (end_time != None):\n",
    "            self.start_time = end_time - duration\n",
    "        else:\n",
    "            self.start_time = start_time\n",
    "        if (end_time == None) and (start_time != None):\n",
    "            self.end_time = start_time + duration\n",
    "        else:\n",
    "            self.end_time = end_time\n",
    "        if (duration == None) and (start_time != None) and (end_time != None):\n",
    "            self.duration = end_time - start_time\n",
    "        else:\n",
    "            self.duration = duration\n",
    "        self.location = location\n",
    "        self.priority = priority"
   ]
  },
  {
   "cell_type": "code",
   "execution_count": 4,
   "metadata": {},
   "outputs": [],
   "source": [
    "def extract_uni_activities(calendar_file):\n",
    "    file = open(calendar_file, 'rb')\n",
    "    ecal = Calendar.from_ical(file.read())\n",
    "    uni_activities = []\n",
    "    for component in ecal.walk():\n",
    "        if component.name == 'VEVENT':\n",
    "            if component.decoded(\"dtstart\").strftime(\"%Y-%m-%d\") == datetime.strptime('2022-11-30', \"%Y-%m-%d\").strftime(\"%Y-%m-%d\"):\n",
    "                name = str(component.get('summary'))\n",
    "#                 start_time = component.decoded(\"dtstart\").strftime(\"%Y-%m-%d %H:%M:%S\n",
    "                start_time = component.decoded(\"dtstart\").replace(tzinfo=None)\n",
    "                end_time = component.decoded(\"dtend\").replace(tzinfo=None)\n",
    "                uni_activities.append(Activity(name=name, start_time=start_time, end_time=end_time))\n",
    "    return uni_activities"
   ]
  },
  {
   "cell_type": "code",
   "execution_count": 5,
   "metadata": {},
   "outputs": [],
   "source": [
    "class EmptySlot:\n",
    "    def __init__(self, start_time, end_time, prev_activity, next_activity):\n",
    "        self.start_time = start_time\n",
    "        self.end_time = end_time\n",
    "        self.prev_activity = prev_activity\n",
    "        self.next_activity = next_activity"
   ]
  },
  {
   "cell_type": "code",
   "execution_count": 6,
   "metadata": {},
   "outputs": [],
   "source": [
    "class Schedule:\n",
    "    def __init__(self, wakeup_time=None, bed_time=None):\n",
    "        self.activities = []\n",
    "    \n",
    "    def add_activity(self, activity):\n",
    "        self.activities.append(activity)\n",
    "        self._sort_based_on_start_time()\n",
    "\n",
    "    def _sort_based_on_start_time(self):\n",
    "        self.activities.sort(key=lambda x: x.start_time)\n",
    "    \n",
    "    def find_empty_slots(self):  \n",
    "        empty_slots = []\n",
    "        for i in range(len(self.activities)-1):\n",
    "            prev_act = self.activities[i]\n",
    "            next_act = self.activities[i+1]\n",
    "            duration = (next_act.start_time - prev_act.end_time).seconds\n",
    "            if duration > 0:\n",
    "                empty_slots.append(EmptySlot(start_time=prev_act.end_time, end_time=next_act.start_time, prev_activity=prev_act, next_activity=next_act))\n",
    "        return empty_slots\n",
    "    \n",
    "    def print_schedule(self):\n",
    "        for act in self.activities:\n",
    "            print(act.start_time, \"-\", act.end_time, \":\", act.name)"
   ]
  },
  {
   "cell_type": "code",
   "execution_count": 7,
   "metadata": {},
   "outputs": [],
   "source": [
    "def assign_activity_priorities(activities):\n",
    "    for activity in activities:\n",
    "        if (((activity.start_time != None) and (activity.end_time != None)) or\n",
    "        ((activity.duration != None) and (activity.end_time != None)) or\n",
    "        ((activity.duration != None) and (activity.start_time != None)) or\n",
    "        ((activity.duration != None) and (activity.start_time != None) and (activity.end_time != None))):\n",
    "            activity.priority = 1\n",
    "        elif (activity.start_time == None) and (activity.end_time == None) and (activity.duration != None) and (activity.location != None):\n",
    "            activity.priority = 2\n",
    "        elif (activity.start_time == None) and (activity.end_time == None) and (activity.duration != None) and (activity.location == None):\n",
    "            activity.priority = 3\n",
    "        else:\n",
    "            activity.priority = 4\n",
    "    activities.sort(key=lambda x: x.priority)"
   ]
  },
  {
   "cell_type": "code",
   "execution_count": 8,
   "metadata": {},
   "outputs": [],
   "source": [
    "def get_route_duration(loc1, loc2):\n",
    "    return 0"
   ]
  },
  {
   "cell_type": "code",
   "execution_count": 9,
   "metadata": {},
   "outputs": [],
   "source": [
    "def create_schedule(uni_activities, travel_activities, remaining_activities):\n",
    "    schedule = Schedule()\n",
    "    \n",
    "    # Insert uni activities to schedule\n",
    "    for act in uni_activities:\n",
    "        schedule.add_activity(act)\n",
    "        \n",
    "    # Insert travel activities to schedule\n",
    "    for act in travel_activities:\n",
    "        schedule.add_activity(act)\n",
    "    \n",
    "    # Assign priority to remaining activities\n",
    "    assign_activity_priorities(remaining_activities)\n",
    "    \n",
    "    # Schedule remaining activities based on priority\n",
    "    for act in remaining_activities:\n",
    "        print(act.name, act.priority)\n",
    "        empty_slots = schedule.find_empty_slots()\n",
    "        \n",
    "        if act.priority == 1:\n",
    "            schedule.add_activity(act)\n",
    "            \n",
    "        elif act.priority == 2:\n",
    "            min_total_duration = math.inf\n",
    "            min_activity = None\n",
    "            for slot in empty_slots:\n",
    "                travel_time1 = get_route_duration(slot.prev_activity.location, act.location)\n",
    "                travel_time2 = get_route_duration(act.location, slot.next_activity.location)\n",
    "                total_duration = travel_time1 + act.duration + travel_time2\n",
    "                if total_duration < min_total_duration:\n",
    "                    total_duration = min_total_duration\n",
    "                    min_activity = Activity(name=act.name, start_time=slot.prev_activity.end_time, duration=act.duration, location=act.duration)\n",
    "            schedule.add_activity(min_activity)\n",
    "        \n",
    "        elif act.priority == 3:\n",
    "            for slot in empty_slots:\n",
    "                slot_duration = slot.end_time - slot.start_time\n",
    "                if act.duration < slot_duration:\n",
    "                    schedule.add_activity(Activity(name=act.name, start_time=slot.start_time, duration=act.duration))\n",
    "                    break\n",
    "    \n",
    "    return schedule"
   ]
  },
  {
   "cell_type": "code",
   "execution_count": 10,
   "metadata": {},
   "outputs": [],
   "source": [
    "# uni_activities = [\n",
    "#     Activity(name=\"FDE\", start_time=datetime.strptime(\"2022-11-19 08:00:00\", \"%Y-%m-%d %H:%M:%S\"), end_time=datetime.strptime(\"2022-11-19 10:00:00\", \"%Y-%m-%d %H:%M:%S\")),\n",
    "#     Activity(name=\"FDA\", start_time=datetime.strptime(\"2022-11-19 12:00:00\", \"%Y-%m-%d %H:%M:%S\"), end_time=datetime.strptime(\"2022-11-19 13:30:00\", \"%Y-%m-%d %H:%M:%S\"))\n",
    "# ]"
   ]
  },
  {
   "cell_type": "code",
   "execution_count": 16,
   "metadata": {},
   "outputs": [],
   "source": [
    "uni_activities = extract_uni_activities('personal_20221119_172719.ics')"
   ]
  },
  {
   "cell_type": "code",
   "execution_count": 17,
   "metadata": {},
   "outputs": [],
   "source": [
    "travel_activities = [\n",
    "    Activity(name=\"Going to uni\", start_time=datetime.strptime(\"2022-11-30 06:00:00\", \"%Y-%m-%d %H:%M:%S\"), duration=timedelta(minutes=90), location=\"Garching\"),\n",
    "    Activity(name=\"Going home\", end_time=datetime.strptime(\"2022-11-30 21:00:00\", \"%Y-%m-%d %H:%M:%S\"), duration=timedelta(minutes=60), location=\"Hohenzollernplatz\")\n",
    "]"
   ]
  },
  {
   "cell_type": "code",
   "execution_count": 18,
   "metadata": {},
   "outputs": [],
   "source": [
    "remaining_activities = [\n",
    "    Activity(name=\"Reading\", duration=timedelta(minutes=60)),\n",
    "    Activity(name=\"Exercise\", start_time=datetime.strptime(\"2022-11-30 17:00:00\", \"%Y-%m-%d %H:%M:%S\"), end_time=datetime.strptime(\"2022-11-19 19:00:00\", \"%Y-%m-%d %H:%M:%S\")),\n",
    "    Activity(name=\"Laundry\", duration=timedelta(minutes=30))\n",
    "]"
   ]
  },
  {
   "cell_type": "code",
   "execution_count": 19,
   "metadata": {},
   "outputs": [
    {
     "name": "stdout",
     "output_type": "stream",
     "text": [
      "Exercise 1\n",
      "Reading 3\n",
      "Laundry 3\n"
     ]
    }
   ],
   "source": [
    "my_schedule = create_schedule(uni_activities, travel_activities, remaining_activities)"
   ]
  },
  {
   "cell_type": "code",
   "execution_count": 20,
   "metadata": {},
   "outputs": [
    {
     "name": "stdout",
     "output_type": "stream",
     "text": [
      "2022-11-30 06:00:00 - 2022-11-30 07:30:00 : Going to uni\n",
      "2022-11-30 08:00:00 - 2022-11-30 09:00:00 : Übung zu Quantentechnologie UE, Gruppe 1 Johannes Früh\n",
      "2022-11-30 09:00:00 - 2022-11-30 11:00:00 : Quantentechnologie VO, Standardgruppe\n",
      "2022-11-30 11:00:00 - 2022-11-30 12:00:00 : Reading\n",
      "2022-11-30 12:00:00 - 2022-11-30 12:30:00 : Laundry\n",
      "2022-11-30 13:00:00 - 2022-11-30 15:00:00 : Image Guided Surgery (IN2286) VI, Standardgruppe\n",
      "2022-11-30 17:00:00 - 2022-11-30 18:30:00 : Deutsch als Fremdsprache A2.1 SE, Keza GERMAN MATTERS (GAR Präsenz)\n",
      "2022-11-30 17:00:00 - 2022-11-19 19:00:00 : Exercise\n",
      "2022-11-30 20:00:00 - 2022-11-30 21:00:00 : Going home\n"
     ]
    }
   ],
   "source": [
    "my_schedule.print_schedule()"
   ]
  },
  {
   "cell_type": "code",
   "execution_count": null,
   "metadata": {},
   "outputs": [],
   "source": []
  }
 ],
 "metadata": {
  "kernelspec": {
   "display_name": "python3.9",
   "language": "python",
   "name": "python3.9"
  },
  "language_info": {
   "codemirror_mode": {
    "name": "ipython",
    "version": 3
   },
   "file_extension": ".py",
   "mimetype": "text/x-python",
   "name": "python",
   "nbconvert_exporter": "python",
   "pygments_lexer": "ipython3",
   "version": "3.9.13"
  }
 },
 "nbformat": 4,
 "nbformat_minor": 4
}
